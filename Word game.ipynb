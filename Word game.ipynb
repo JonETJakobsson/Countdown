{
 "cells": [
  {
   "cell_type": "markdown",
   "metadata": {},
   "source": [
    "# How to find the longest possible word in CountDown\n",
    "In countdown, a string of random letters, picked by the participants is used to make as long english words as possible. This program is designed to find the longest possible word as quickly as possible, given this string. \n",
    "\n",
    "## strategy\n",
    "All words can be described by the constitution of their letters, and words with the same constitution of letters can be built by the same letters but in different order. So by compiling a matrix with all words in the english language as rows, and A-Z as columns, the constitution of the words can be described in a consistent maner. All words that do not exceed the number of letters in the given string can then be sorted out, and presented sorted by word lenght.\n"
   ]
  },
  {
   "cell_type": "markdown",
   "metadata": {},
   "source": [
    "### Load all functions:"
   ]
  },
  {
   "cell_type": "code",
   "execution_count": 4,
   "metadata": {
    "collapsed": true
   },
   "outputs": [],
   "source": [
    "import numpy as np\n",
    "import pandas as pd"
   ]
  },
  {
   "cell_type": "markdown",
   "metadata": {},
   "source": [
    "### count_letters\n",
    "This function creates a dataframe describing how many times a letter is found in the word."
   ]
  },
  {
   "cell_type": "code",
   "execution_count": 6,
   "metadata": {
    "collapsed": false
   },
   "outputs": [],
   "source": [
    "#return a table of letter counts\n",
    "def count_letter(string):\n",
    "    string = string.lower()\n",
    "    word_table = pd.DataFrame()\n",
    "    for i in string:\n",
    "        word_table.loc[string,i] = 0\n",
    "    for i in string:\n",
    "        word_table.loc[string,i] += 1\n",
    "    return word_table"
   ]
  },
  {
   "cell_type": "markdown",
   "metadata": {},
   "source": [
    "### make_word_list\n",
    "This function is used to compile a dictionary matrix, and accepts a list of words as input"
   ]
  },
  {
   "cell_type": "code",
   "execution_count": 7,
   "metadata": {
    "collapsed": true
   },
   "outputs": [],
   "source": [
    "#makes a list with the number of letters for each word, and gives \"0\" for unused letters. Use this to compile a dictionary matrix.\n",
    "def make_word_list(words):\n",
    "    import sys\n",
    "    word_list = pd.DataFrame()\n",
    "    for word in words:\n",
    "        word_list = word_list.append(count_letter(word))\n",
    "        percent = len(word_list)/len(words)*100\n",
    "        sys.stdout.write('\\r'+ str(np.around(percent, decimals = 2)) + \"%\")\n",
    "    word_list = word_list.fillna(0)\n",
    "    return word_list"
   ]
  },
  {
   "cell_type": "markdown",
   "metadata": {},
   "source": [
    "### find_words\n",
    "Use this to return all words in a dictionary matrix that can be built given the string of letters.\n"
   ]
  },
  {
   "cell_type": "code",
   "execution_count": 9,
   "metadata": {
    "collapsed": false
   },
   "outputs": [],
   "source": [
    "#find words in the dictionary matrix that fits the string given on countdown\n",
    "def find_words(string, list_of_words):\n",
    "    string = count_letter(string)\n",
    "    low = list_of_words\n",
    "    for i in low:\n",
    "        if i not in string:\n",
    "            low = low.loc[(low[i] == 0)]\n",
    "        else:\n",
    "            low = low.loc[(low[i] <= int(string[i]))]      \n",
    "    return low"
   ]
  },
  {
   "cell_type": "markdown",
   "metadata": {},
   "source": [
    "### sort_list\n",
    "Adds a column to a table describing the lenght of the words, and sorts this table by this column."
   ]
  },
  {
   "cell_type": "code",
   "execution_count": 10,
   "metadata": {
    "collapsed": false
   },
   "outputs": [],
   "source": [
    "#sorts the list and provides only the words and thir lenghts\n",
    "def sort_list(table):\n",
    "    table[\"lenght\"] = 0\n",
    "    for i in range(len(table)):\n",
    "        table[\"lenght\"].iloc[i] = len(table.index[i])\n",
    "    table = table.sort_values(by=\"lenght\", ascending=False)\n",
    "    return table[\"lenght\"]"
   ]
  },
  {
   "cell_type": "markdown",
   "metadata": {},
   "source": [
    "### countdown\n",
    "This is a wrapping function that returns a sorted list of words, with the longest words first, that fitts the given string. Also accepts the dictionary matrix as input if you want to test a string in different languages etc.\n"
   ]
  },
  {
   "cell_type": "code",
   "execution_count": 11,
   "metadata": {
    "collapsed": false
   },
   "outputs": [],
   "source": [
    "#a wrapping function that only takes the string provided on countdown, and provides a list of fitting words sorted by lenght\n",
    "#Also alows to select custum wordlists, if different languages is needed for instance\n",
    "def countdown(word, low):\n",
    "    return sort_list(find_words(word, low))"
   ]
  },
  {
   "cell_type": "markdown",
   "metadata": {},
   "source": [
    "### Load dictionary\n",
    "Imports a list of 58000 enlish words from http://www.mieliestronk.com/wordlist.html\n",
    "\n",
    "Feel free to load a list of other languages or with evne more words."
   ]
  },
  {
   "cell_type": "code",
   "execution_count": 5,
   "metadata": {
    "collapsed": false
   },
   "outputs": [],
   "source": [
    "english = pd.read_csv(\"http://www.mieliestronk.com/corncob_lowercase.txt\", header=None)\n",
    "english = list(english[0])"
   ]
  },
  {
   "cell_type": "markdown",
   "metadata": {},
   "source": [
    "### Compile dictionary matrix\n",
    "**Warning:**\n",
    "This takes a long time, so only run this code if you want to compile a list with more words or in a different language"
   ]
  },
  {
   "cell_type": "code",
   "execution_count": 87,
   "metadata": {
    "collapsed": false
   },
   "outputs": [
    {
     "name": "stdout",
     "output_type": "stream",
     "text": [
      "100.0%"
     ]
    }
   ],
   "source": [
    "english = make_word_list(english)\n",
    "english.to_csv(\"english.csv\")"
   ]
  },
  {
   "cell_type": "markdown",
   "metadata": {},
   "source": [
    "### Load dictionary matrix\n",
    "Use this code to load the allready compiled matrix with 58,000 english words"
   ]
  },
  {
   "cell_type": "code",
   "execution_count": 12,
   "metadata": {
    "collapsed": false
   },
   "outputs": [],
   "source": [
    "english = pd.read_csv(\"english.csv\", index_col=0)"
   ]
  },
  {
   "cell_type": "markdown",
   "metadata": {},
   "source": [
    "# Lets play countdown!\n",
    "Enter the string below, and beat all of your friends ;)"
   ]
  },
  {
   "cell_type": "code",
   "execution_count": 18,
   "metadata": {
    "collapsed": false
   },
   "outputs": [
    {
     "name": "stderr",
     "output_type": "stream",
     "text": [
      "C:\\Users\\Admin\\Anaconda3\\lib\\site-packages\\pandas\\core\\indexing.py:132: SettingWithCopyWarning: \n",
      "A value is trying to be set on a copy of a slice from a DataFrame\n",
      "\n",
      "See the caveats in the documentation: http://pandas.pydata.org/pandas-docs/stable/indexing.html#indexing-view-versus-copy\n",
      "  self._setitem_with_indexer(indexer, value)\n"
     ]
    },
    {
     "data": {
      "text/plain": [
       "subtitle    8\n",
       "subtle      6\n",
       "titles      6\n",
       "bustle      6\n",
       "bluest      6\n",
       "built       5\n",
       "blues       5\n",
       "title       5\n",
       "islet       5\n",
       "tiles       5\n",
       "butts       5\n",
       "lutes       5\n",
       "tubes       5\n",
       "tilts       5\n",
       "biles       5\n",
       "bites       5\n",
       "suite       5\n",
       "belts       5\n",
       "stilt       5\n",
       "bitts       5\n",
       "lust        4\n",
       "lies        4\n",
       "lieu        4\n",
       "test        4\n",
       "stub        4\n",
       "tile        4\n",
       "slit        4\n",
       "lute        4\n",
       "ties        4\n",
       "silt        4\n",
       "           ..\n",
       "tube        4\n",
       "buts        4\n",
       "butt        4\n",
       "tits        4\n",
       "etui        4\n",
       "suit        4\n",
       "suet        4\n",
       "tie         3\n",
       "tub         3\n",
       "tit         3\n",
       "use         3\n",
       "sue         3\n",
       "bet         3\n",
       "sit         3\n",
       "set         3\n",
       "lit         3\n",
       "bel         3\n",
       "lie         3\n",
       "let         3\n",
       "its         3\n",
       "sub         3\n",
       "est         3\n",
       "els         3\n",
       "but         3\n",
       "bus         3\n",
       "bit         3\n",
       "us          2\n",
       "it          2\n",
       "is          2\n",
       "be          2\n",
       "Name: lenght, dtype: int64"
      ]
     },
     "execution_count": 18,
     "metadata": {},
     "output_type": "execute_result"
    }
   ],
   "source": [
    "string = \"SlutBite\"\n",
    "countdown(string, english)"
   ]
  },
  {
   "cell_type": "code",
   "execution_count": null,
   "metadata": {
    "collapsed": true
   },
   "outputs": [],
   "source": []
  }
 ],
 "metadata": {
  "anaconda-cloud": {},
  "kernelspec": {
   "display_name": "Python [default]",
   "language": "python",
   "name": "python3"
  },
  "language_info": {
   "codemirror_mode": {
    "name": "ipython",
    "version": 3
   },
   "file_extension": ".py",
   "mimetype": "text/x-python",
   "name": "python",
   "nbconvert_exporter": "python",
   "pygments_lexer": "ipython3",
   "version": "3.5.2"
  }
 },
 "nbformat": 4,
 "nbformat_minor": 1
}
